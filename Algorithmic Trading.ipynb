{
 "cells": [
  {
   "cell_type": "markdown",
   "metadata": {},
   "source": [
    "# Algorithmic Programming\n",
    "### This notebook will serve as a brief guide to programming for algrorithmic trading in Python."
   ]
  },
  {
   "cell_type": "markdown",
   "metadata": {},
   "source": [
    "Python has become the go-to language for data science over the past few years and serves as a good base from which to learn programming.\n",
    "This tutorial will take you through some basic python and end with an example of how programmers use code to trade."
   ]
  },
  {
   "cell_type": "markdown",
   "metadata": {},
   "source": [
    "## Hello World\n",
    "This is the first example everyone is exposed to.  \n",
    "It is overly simplistic but demonstrated that the computer will do what you tell it to.\n",
    "Running this line results in the string (a sequence of text), 'Hello, World' being printed to the console."
   ]
  },
  {
   "cell_type": "code",
   "execution_count": null,
   "metadata": {},
   "outputs": [],
   "source": [
    "print('Hello, World')"
   ]
  },
  {
   "cell_type": "markdown",
   "metadata": {},
   "source": [
    "## Mathematics\n",
    "The following few lines illustrate some of the basic mathematics operations Python has to offer.\n",
    "In order: addition, subtraction, multiplication, division, modulus (remainder), power"
   ]
  },
  {
   "cell_type": "code",
   "execution_count": null,
   "metadata": {},
   "outputs": [],
   "source": [
    "print(1+2)\n",
    "print(3-4)\n",
    "print(5*6)\n",
    "print(7/8)\n",
    "print(9%10)\n",
    "print(10**2)"
   ]
  },
  {
   "cell_type": "markdown",
   "metadata": {},
   "source": [
    "## Variables\n",
    "Variables work the same in rpogramming as they do in normal math.\n",
    "We can give them a value and they keep that value for us for later use.\n",
    "In the example below x is given the value of 3 using the assignment operator, '='.\n",
    "The value of x is used later instead of 3 but they give the same result."
   ]
  },
  {
   "cell_type": "code",
   "execution_count": null,
   "metadata": {},
   "outputs": [],
   "source": [
    "x = 3\n",
    "print(3**3)\n",
    "print(x**x)"
   ]
  },
  {
   "cell_type": "markdown",
   "metadata": {},
   "source": [
    "## Conditionals and Loops\n",
    "#### The IF Statement\n",
    "Often times in a program we want to make a choice of how to proceed.\n",
    "For example do we want to buy the stock or not.\n",
    "This is called a conditional and it is achieved with an 'if' statement."
   ]
  },
  {
   "cell_type": "code",
   "execution_count": null,
   "metadata": {},
   "outputs": [],
   "source": [
    "x = 5\n",
    "if x==4:\n",
    "    print('x is 4')\n",
    "print('The End')"
   ]
  },
  {
   "cell_type": "markdown",
   "metadata": {},
   "source": [
    "As we can see in the code above, x is assigned the value 5.  The considtional checks if x is equal to 4 ('==') in line 2.\n",
    "Since x is not 4 the conditional skips the indented part and moves on."
   ]
  },
  {
   "cell_type": "code",
   "execution_count": null,
   "metadata": {},
   "outputs": [],
   "source": [
    "x = 5\n",
    "if x==4:\n",
    "    print('x is 4')\n",
    "else:\n",
    "    print('x is not 4')\n",
    "print('The End')"
   ]
  },
  {
   "cell_type": "markdown",
   "metadata": {},
   "source": [
    "This time we gave the computer an alternate option.  The else block executes because x was not equal to 4."
   ]
  },
  {
   "cell_type": "code",
   "execution_count": null,
   "metadata": {},
   "outputs": [],
   "source": [
    "x = 5\n",
    "if x == 4:\n",
    "    print('x is 4')\n",
    "elif x == 5:\n",
    "    print('x is 5')\n",
    "else:\n",
    "    print('x is not 4 or 5')\n",
    "print('The End')"
   ]
  },
  {
   "cell_type": "markdown",
   "metadata": {},
   "source": [
    "This last example shows the addition of an elif which allows us to check another condition.  The condition does not have to include anything from the first one."
   ]
  },
  {
   "cell_type": "markdown",
   "metadata": {},
   "source": [
    "#### The FOR Loop\n",
    "There are many times we want our program to do the same thing many times.\n",
    "This behavior is called a loop and is accomplished using either 'for' or 'while'.  We will only cover for right now.\n",
    "The code below prints x 10 times, but each time one is added to x."
   ]
  },
  {
   "cell_type": "code",
   "execution_count": null,
   "metadata": {},
   "outputs": [],
   "source": [
    "x = 0\n",
    "for i in range(10): # 'i in range(10)' tells the computer to run the indented block 10 times\n",
    "    print(x)\n",
    "    x = x + 1  # Add 1 to x\n",
    "    \n",
    "# Important Note: When the computer runs this loop, i will start at 0 and go up to 9.  It will never be 10."
   ]
  },
  {
   "cell_type": "markdown",
   "metadata": {},
   "source": [
    "## Final Notes\n",
    "#### Lists and Containers\n",
    "It is very useful to hold things in a list.  Python provides several way to do this but we will just introduce the list.\n",
    "The code below creates two lists (x and y) and appends values to them in the for loop.  It is important to note that a lsit can change after is thas been created.  Some other containers cannot be changed in this way.  We can also access item in the list using [].  This is shown after the loop.\n",
    "\n",
    "#### Imports\n",
    "The last important piece is how to make use of previously written code.\n",
    "We can add other code to our file using the 'important' command.\n",
    "In the example below, 'matplotlib.pyplot' is imported allowing the programmer to make graphs."
   ]
  },
  {
   "cell_type": "code",
   "execution_count": null,
   "metadata": {},
   "outputs": [],
   "source": [
    "# ignore this inline thing\n",
    "# it makes the graph appear in the notebook\n",
    "%matplotlib inline\n",
    "\n",
    "import matplotlib.pyplot\n",
    "\n",
    "x = []\n",
    "y = []\n",
    "\n",
    "for i in range(11):\n",
    "    x.append(i)\n",
    "    y.append(i**2)\n",
    "    \n",
    "print(y[2])\n",
    "\n",
    "fig = matplotlib.pyplot.figure()\n",
    "ax = fig.add_subplot(1, 1, 1)\n",
    "ax.plot(x, y)\n",
    "ax.set_title('X vs. Y')\n",
    "ax.set_xlim([0, 10])\n",
    "ax.set_ylim([0, 100])\n",
    "matplotlib.pyplot.show();\n"
   ]
  },
  {
   "cell_type": "markdown",
   "metadata": {},
   "source": [
    "## Simple Trading Algorithm\n",
    "It is finally time to get into some fun stuff.  Below we will build a simple moving average model using the concepts taught above.\n",
    "It will be broken apart across a few cells so we will walk through it step by step."
   ]
  },
  {
   "cell_type": "markdown",
   "metadata": {},
   "source": [
    "The first thing to do in a program is to import the needed modules.  If all of these cells were in one big file, this would be at the top."
   ]
  },
  {
   "cell_type": "code",
   "execution_count": null,
   "metadata": {},
   "outputs": [],
   "source": [
    "import matplotlib.pyplot as plt\n",
    "import numpy as np"
   ]
  },
  {
   "cell_type": "markdown",
   "metadata": {},
   "source": [
    "The next piece of code generates sample market data.  Don't worry if you can figure out whats going on, the imporant thing is that we make a loop and add values to a list just like in the example before.\n",
    "At the end of the loop, we are left with price history for our fake stock market, which is shown in the graph."
   ]
  },
  {
   "cell_type": "code",
   "execution_count": null,
   "metadata": {},
   "outputs": [],
   "source": [
    "%matplotlib inline\n",
    "\n",
    "price_history = [100,]\n",
    "\n",
    "mean, stddev = 0.0029, 0.9\n",
    "percent_daily_change = np.random.normal(mean, stddev, 2520)\n",
    "\n",
    "for i in range(1,2520):\n",
    "    price_history.append(price_history[i-1]*(1+percent_daily_change[i-1]/100))\n",
    "    \n",
    "daily_returns_figure, axes = plt.subplots()\n",
    "count, returns, ignored = axes.hist(percent_daily_change, bins=30, density=1)\n",
    "y = ((1 / (np.sqrt(2 * np.pi) * stddev)) *\n",
    "     np.exp(-0.5 * (1 / stddev * (returns - mean))**2))\n",
    "axes.plot(returns, y, '--')\n",
    "axes.set_xlabel('Daily Return')\n",
    "axes.set_ylabel('Probability')\n",
    "axes.set_title('Simulated Daily Returns')\n",
    "daily_returns_figure.tight_layout()\n",
    "plt.show()\n",
    "\n",
    "price_chart, axes = plt.subplots()\n",
    "axes.plot(price_history)\n",
    "axes.set_xlabel('# of Trading Days')\n",
    "axes.set_ylabel('Market Price')\n",
    "axes.set_title('Simulated Market Price Over 10 Years')\n",
    "plt.show()\n"
   ]
  },
  {
   "cell_type": "markdown",
   "metadata": {},
   "source": [
    "Now that we have generated our fake market we an actually begin to delevop an algorithm that trades on it.\n",
    "As noted before we will make a simple moving average model that detects when two moving averages cross and trades based on which way they move.\n",
    "First we define the lists to hold our movinag averages.\n",
    "Then, we populate them with the proper data."
   ]
  },
  {
   "cell_type": "code",
   "execution_count": null,
   "metadata": {},
   "outputs": [],
   "source": [
    "%matplotlib inline\n",
    "\n",
    "sma200 = []\n",
    "sma50 = []\n",
    "\n",
    "# ignore this\n",
    "x = [i for i in range(2520)]\n",
    "\n",
    "for i in range(49):\n",
    "    sma50.append(price_history[i])\n",
    "for i in range (49,2520):\n",
    "    avg = price_history[i-4]+price_history[i-3]+price_history[i-2]+price_history[i-1]+price_history[i]\n",
    "    avg = avg / 5\n",
    "    sma50.append(avg)\n",
    "\n",
    "for i in range(199):\n",
    "    sma200.append(price_history[i])\n",
    "for i in range (199,2520):\n",
    "    avg = 0\n",
    "    for j in range(0, 20):\n",
    "        avg = avg + price_history[i-j]\n",
    "    avg = avg / 20\n",
    "    sma200.append(avg)\n",
    "    \n",
    "price_chart, axes = plt.subplots()\n",
    "axes.plot(x[1000:1100], price_history[1000:1100], x[1000:1100], sma50[1000:1100], 'r', x[1000:1100], sma200[1000:1100], 'g')\n",
    "axes.set_xlabel('# of Trading Days')\n",
    "axes.set_ylabel('Market Price')\n",
    "axes.set_title('Moving Averages Over a 100 Day Span')\n",
    "plt.show()\n"
   ]
  },
  {
   "cell_type": "markdown",
   "metadata": {},
   "source": [
    "We now have our moving averages calculated for the whole time series.  From here we can actualy 'trade' the market using our model.\n",
    "In our model we will invest our entire portfolio in the market when the 50 day moving average crosses above the 200 day.  If the opposite occurs we will short the market.\n",
    "\n",
    "First we start with $10,000 in our portfolio."
   ]
  },
  {
   "cell_type": "code",
   "execution_count": null,
   "metadata": {},
   "outputs": [],
   "source": [
    "net_worth = 10000"
   ]
  },
  {
   "cell_type": "markdown",
   "metadata": {},
   "source": [
    "Next we loop through every day to see if we should take some action.  \n",
    "The current portfolio position is indicated buy the vaiable called 'current_status.  It will either be short or long.\n",
    "The price we buy (or sell) the market at is called 'start_price'.\n",
    "The number of shares we own is stored in 'shares'."
   ]
  },
  {
   "cell_type": "code",
   "execution_count": null,
   "metadata": {},
   "outputs": [],
   "source": [
    "current_status = 'Short'\n",
    "start_price = 0\n",
    "shares = 0\n",
    "\n",
    "# Additional Features\n",
    "commission = 5\n",
    "num_trades = 0\n",
    "\n",
    "for i in range(200, 2520):\n",
    "    if current_status == 'Short':\n",
    "        if sma50[i]-sma200[i] > 0:\n",
    "            gains = (start_price - price_history[i])*shares\n",
    "            net_worth = net_worth + gains - 2*commission\n",
    "            current_status = 'Long'\n",
    "            start_price = price_history[i]\n",
    "            shares = net_worth / start_price\n",
    "            print (\"Closed short position at {0:0.2f} for a gain of {1:0.2f} dollars\".format(price_history[i], gains))\n",
    "            num_trades = num_trades + 1\n",
    "    if current_status == 'Long':\n",
    "        if sma50[i]-sma200[i] < 0:\n",
    "            gains = (price_history[i] - start_price)*shares\n",
    "            net_worth = shares * price_history[i]  - 2*commission\n",
    "            current_status = 'Short'\n",
    "            start_price = price_history[i]\n",
    "            shares = net_worth / start_price\n",
    "            print (\"Closed long position at {0:0.2f} for a gain of {1:0.2f} dollars\".format(price_history[i], gains))\n",
    "            num_trades = num_trades + 1\n"
   ]
  },
  {
   "cell_type": "markdown",
   "metadata": {},
   "source": [
    "Once we have our net worth after the 10 year span we can print it out."
   ]
  },
  {
   "cell_type": "code",
   "execution_count": null,
   "metadata": {},
   "outputs": [],
   "source": [
    "print(\"The current market value is: {0:0.2f}\".format(price_history[2519]))\n",
    "print(\"The market returned {0:0.2f}% over the 10 year span.\".format((price_history[2519]-100)))\n",
    "\n",
    "print(\"Our net worth is: ${0:0.2f}\".format(net_worth))\n",
    "print(\"Our portfolio returned {0:0.2f}% over the 10 year span.\".format((net_worth-10000)/100))"
   ]
  },
  {
   "cell_type": "markdown",
   "metadata": {},
   "source": [
    "The print outs below illustrate the impact commissions trade frequency have on portfolio value."
   ]
  },
  {
   "cell_type": "code",
   "execution_count": null,
   "metadata": {},
   "outputs": [],
   "source": [
    "print(\"This model initiaited {0} trades over a 10 year span resulting in ${1} of commissions.\".format(num_trades, num_trades*2*commission))"
   ]
  }
 ],
 "metadata": {
  "kernelspec": {
   "display_name": "Python 3",
   "language": "python",
   "name": "python3"
  },
  "language_info": {
   "codemirror_mode": {
    "name": "ipython",
    "version": 3
   },
   "file_extension": ".py",
   "mimetype": "text/x-python",
   "name": "python",
   "nbconvert_exporter": "python",
   "pygments_lexer": "ipython3",
   "version": "3.7.2"
  }
 },
 "nbformat": 4,
 "nbformat_minor": 2
}
