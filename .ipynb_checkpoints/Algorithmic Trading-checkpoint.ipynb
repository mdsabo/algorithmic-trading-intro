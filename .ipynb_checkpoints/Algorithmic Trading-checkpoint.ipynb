{
 "cells": [
  {
   "cell_type": "markdown",
   "metadata": {},
   "source": [
    "# Algorithmic Programming\n",
    "### This notebook will serve as a brief guide to programming for algrorithmic trading in Python."
   ]
  },
  {
   "cell_type": "markdown",
   "metadata": {},
   "source": [
    "Python has become the go-to language for data science over the past few years and serves as a good base from which to learn programming.\n",
    "This tutorial will take you through some basic python and end with an example of how programmers use code to trade."
   ]
  },
  {
   "cell_type": "markdown",
   "metadata": {},
   "source": [
    "## Hello World\n",
    "This is the first example everyone is exposed to.  \n",
    "It is overly simplistic but demonstrated that the computer will do what you tell it to.\n",
    "Running this line results in the string (a sequence of text), 'Hello, World' being printed to the console."
   ]
  },
  {
   "cell_type": "code",
   "execution_count": 1,
   "metadata": {},
   "outputs": [
    {
     "name": "stdout",
     "output_type": "stream",
     "text": [
      "Hello, World\n"
     ]
    }
   ],
   "source": [
    "print('Hello, World')"
   ]
  },
  {
   "cell_type": "markdown",
   "metadata": {},
   "source": [
    "## Mathematics\n",
    "The following few lines illustrate some of the basic mathematics operations Python has to offer.\n",
    "In order: addition, subtraction, multiplication, division, modulus (remainder), power"
   ]
  },
  {
   "cell_type": "code",
   "execution_count": 2,
   "metadata": {},
   "outputs": [
    {
     "data": {
      "text/plain": [
       "100"
      ]
     },
     "execution_count": 2,
     "metadata": {},
     "output_type": "execute_result"
    }
   ],
   "source": [
    "1+2\n",
    "3-4\n",
    "5*6\n",
    "7/8\n",
    "9%10\n",
    "10**2"
   ]
  },
  {
   "cell_type": "markdown",
   "metadata": {},
   "source": [
    "## Variables\n",
    "Variables work the same in rpogramming as they do in normal math.\n",
    "We can give them a value and they keep that value for us for later use.\n",
    "In the example below x is given the value of 3 using the assignment operator, '='.\n",
    "The value of x is used later instead of 3 but they give the same result."
   ]
  },
  {
   "cell_type": "code",
   "execution_count": 3,
   "metadata": {},
   "outputs": [
    {
     "name": "stdout",
     "output_type": "stream",
     "text": [
      "27\n",
      "27\n"
     ]
    }
   ],
   "source": [
    "x = 3\n",
    "print(3**3)\n",
    "print(x**x)"
   ]
  },
  {
   "cell_type": "markdown",
   "metadata": {},
   "source": [
    "## Conditionals and Loops\n",
    "#### The IF Statement\n",
    "Often times in a program we want to make a choice of how to proceed.\n",
    "For example do we want to buy the stock or not.\n",
    "This is called a conditional and it is achieved with an 'if' statement."
   ]
  },
  {
   "cell_type": "code",
   "execution_count": 4,
   "metadata": {},
   "outputs": [
    {
     "name": "stdout",
     "output_type": "stream",
     "text": [
      "The End\n"
     ]
    }
   ],
   "source": [
    "x = 5\n",
    "if x==4:\n",
    "    print('x is 4')\n",
    "print('The End')"
   ]
  },
  {
   "cell_type": "markdown",
   "metadata": {},
   "source": [
    "As we can see in the code above, x is assigned the value 5.  The considtional checks if x is equal to 4 ('==') in line 2.\n",
    "Since x is not 4 the conditional skips the indented part and moves on."
   ]
  },
  {
   "cell_type": "code",
   "execution_count": 5,
   "metadata": {},
   "outputs": [
    {
     "name": "stdout",
     "output_type": "stream",
     "text": [
      "x is not 4\n",
      "The End\n"
     ]
    }
   ],
   "source": [
    "x = 5\n",
    "if x==4:\n",
    "    print('x is 4')\n",
    "else:\n",
    "    print('x is not 4')\n",
    "print('The End')"
   ]
  },
  {
   "cell_type": "markdown",
   "metadata": {},
   "source": [
    "This time we gave the computer an alternate option.  The else block executes because x was not equal to 4."
   ]
  },
  {
   "cell_type": "code",
   "execution_count": 6,
   "metadata": {},
   "outputs": [
    {
     "name": "stdout",
     "output_type": "stream",
     "text": [
      "x is 5\n",
      "The End\n"
     ]
    }
   ],
   "source": [
    "x = 5\n",
    "if x == 4:\n",
    "    print('x is 4')\n",
    "elif x == 5:\n",
    "    print('x is 5')\n",
    "else:\n",
    "    print('x is not 4 or 5')\n",
    "print('The End')"
   ]
  },
  {
   "cell_type": "markdown",
   "metadata": {},
   "source": [
    "This last example shows the addition of an elif which allows us to check another condition.  The condition does not have to include anything from the first one."
   ]
  },
  {
   "cell_type": "markdown",
   "metadata": {},
   "source": [
    "#### The FOR Loop\n",
    "There are many times we want our program to do the same thing many times.\n",
    "This behavior is called a loop and is accomplished using either 'for' or 'while'.  We will only cover for right now.\n",
    "The code below prints x 10 times, but each time one is added to x."
   ]
  },
  {
   "cell_type": "code",
   "execution_count": 7,
   "metadata": {},
   "outputs": [
    {
     "name": "stdout",
     "output_type": "stream",
     "text": [
      "0\n",
      "1\n",
      "2\n",
      "3\n",
      "4\n",
      "5\n",
      "6\n",
      "7\n",
      "8\n",
      "9\n"
     ]
    }
   ],
   "source": [
    "x = 0\n",
    "for i in range(10): # 'i in range(10)' tells the computer to run the indented block 10 times\n",
    "    print(x)\n",
    "    x = x + 1  # Add 1 to x\n",
    "    \n",
    "# Important Note: When the computer runs this loop, i will start at 0 and go up to 9.  It will never be 10."
   ]
  },
  {
   "cell_type": "markdown",
   "metadata": {},
   "source": [
    "## Final Notes\n",
    "#### Lists and Containers\n",
    "It is very useful to hold things in a list.  Python provides several way to do this but we will just introduce the list.\n",
    "The code below creates two lists (x and y) and appends values to them in the for loop.  It is important to note that a lsit can change after is thas been created.  Some other containers cannot be changed in this way.  We can also access item in the list using [].  This is shown after the loop.\n",
    "\n",
    "#### Imports\n",
    "The last important piece is how to make use of previously written code.\n",
    "We can add other code to our file using the 'important' command.\n",
    "In the example below, 'matplotlib.pyplot' is imported allowing the programmer to make graphs."
   ]
  },
  {
   "cell_type": "code",
   "execution_count": 8,
   "metadata": {},
   "outputs": [
    {
     "name": "stdout",
     "output_type": "stream",
     "text": [
      "4\n"
     ]
    },
    {
     "data": {
      "image/png": "[encoded data removed]",
      "text/plain": [
       "<Figure size 432x288 with 1 Axes>"
      ]
     },
     "metadata": {
      "needs_background": "light"
     },
     "output_type": "display_data"
    }
   ],
   "source": [
    "# ignore this inline thing\n",
    "# it makes the graph appear in the notebook\n",
    "%matplotlib inline\n",
    "\n",
    "import matplotlib.pyplot\n",
    "\n",
    "x = []\n",
    "y = []\n",
    "\n",
    "for i in range(11):\n",
    "    x.append(i)\n",
    "    y.append(i**2)\n",
    "    \n",
    "print(y[2])\n",
    "\n",
    "fig = matplotlib.pyplot.figure()\n",
    "ax = fig.add_subplot(1, 1, 1)\n",
    "ax.plot(x, y)\n",
    "ax.set_title('X vs. Y')\n",
    "ax.set_xlim([0, 10])\n",
    "ax.set_ylim([0, 100])\n",
    "matplotlib.pyplot.show();"
   ]
  },
  {
   "cell_type": "markdown",
   "metadata": {},
   "source": [
    "## Simple Trading Algorithm\n",
    "It is finally time to get into some fun stuff.  Below we will build a simple moving average model using the concepts taught above.\n",
    "It will be broken apart across a few cells so we will walk through it step by step."
   ]
  },
  {
   "cell_type": "markdown",
   "metadata": {},
   "source": [
    "The first thing to do in a program is to import the needed modules.  If all of these cells were in one big file, this would be at the top."
   ]
  },
  {
   "cell_type": "code",
   "execution_count": 9,
   "metadata": {},
   "outputs": [],
   "source": [
    "import matplotlib.pyplot as plt\n",
    "import numpy as np"
   ]
  },
  {
   "cell_type": "markdown",
   "metadata": {},
   "source": [
    "The next piece of code generates sample market data.  Don't worry if you can figure out whats going on, the imporant thing is that we make a loop and add values to a list just like in the example before.\n",
    "At the end of the loop, we are left with price history for our fake stock market, which is shown in the graph."
   ]
  },
  {
   "cell_type": "code",
   "execution_count": 10,
   "metadata": {},
   "outputs": [
    {
     "data": {
      "image/png": "[encoded data removed]",
      "text/plain": [
       "<Figure size 432x288 with 1 Axes>"
      ]
     },
     "metadata": {
      "needs_background": "light"
     },
     "output_type": "display_data"
    },
    {
     "data": {
      "image/png": "[encoded data removed]",
      "text/plain": [
       "<Figure size 432x288 with 1 Axes>"
      ]
     },
     "metadata": {
      "needs_background": "light"
     },
     "output_type": "display_data"
    }
   ],
   "source": [
    "%matplotlib inline\n",
    "\n",
    "price_history = [100,]\n",
    "\n",
    "mean, stddev = 0.0029, 0.9\n",
    "percent_daily_change = np.random.normal(mean, stddev, 2520)\n",
    "\n",
    "for i in range(1,2520):\n",
    "    price_history.append(price_history[i-1]*(1+percent_daily_change[i-1]/100))\n",
    "    \n",
    "daily_returns_figure, axes = plt.subplots()\n",
    "count, returns, ignored = axes.hist(percent_daily_change, bins=30, density=1)\n",
    "y = ((1 / (np.sqrt(2 * np.pi) * stddev)) *\n",
    "     np.exp(-0.5 * (1 / stddev * (returns - mean))**2))\n",
    "axes.plot(returns, y, '--')\n",
    "axes.set_xlabel('Daily Return')\n",
    "axes.set_ylabel('Probability')\n",
    "axes.set_title('Simulated Daily Returns')\n",
    "daily_returns_figure.tight_layout()\n",
    "plt.show()\n",
    "\n",
    "price_chart, axes = plt.subplots()\n",
    "axes.plot(price_history)\n",
    "axes.set_xlabel('# of Trading Days')\n",
    "axes.set_ylabel('Market Price')\n",
    "axes.set_title('Simulated Market Price Over 10 Years')\n",
    "plt.show()"
   ]
  },
  {
   "cell_type": "markdown",
   "metadata": {},
   "source": [
    "Now that we have generated our fake market we an actually begin to delevop an algorithm that trades on it.\n",
    "As noted before we will make a simple moving average model that detects when two moving averages cross and trades based on which way they move.\n",
    "First we define the lists to hold our movinag averages.\n",
    "Then, we populate them with the proper data."
   ]
  },
  {
   "cell_type": "code",
   "execution_count": 11,
   "metadata": {},
   "outputs": [
    {
     "data": {
      "image/png": "[encoded data removed]",
      "text/plain": [
       "<Figure size 432x288 with 1 Axes>"
      ]
     },
     "metadata": {
      "needs_background": "light"
     },
     "output_type": "display_data"
    }
   ],
   "source": [
    "%matplotlib inline\n",
    "\n",
    "sma200 = []\n",
    "sma50 = []\n",
    "\n",
    "# ignore this\n",
    "x = [i for i in range(2520)]\n",
    "\n",
    "for i in range(49):\n",
    "    sma50.append(price_history[i])\n",
    "for i in range (49,2520):\n",
    "    avg = price_history[i-4]+price_history[i-3]+price_history[i-2]+price_history[i-1]+price_history[i]\n",
    "    avg = avg / 5\n",
    "    sma50.append(avg)\n",
    "\n",
    "for i in range(199):\n",
    "    sma200.append(price_history[i])\n",
    "for i in range (199,2520):\n",
    "    avg = 0\n",
    "    for j in range(0, 20):\n",
    "        avg = avg + price_history[i-j]\n",
    "    avg = avg / 20\n",
    "    sma200.append(avg)\n",
    "    \n",
    "price_chart, axes = plt.subplots()\n",
    "axes.plot(x[1000:1100], price_history[1000:1100], x[1000:1100], sma50[1000:1100], 'r', x[1000:1100], sma200[1000:1100], 'g')\n",
    "axes.set_xlabel('# of Trading Days')\n",
    "axes.set_ylabel('Market Price')\n",
    "axes.set_title('Moving Averages Over a 100 Day Span')\n",
    "plt.show()"
   ]
  },
  {
   "cell_type": "markdown",
   "metadata": {},
   "source": [
    "We now have our moving averages calculated for the whole time series.  From here we can actualy 'trade' the market using our model.\n",
    "In our model we will invest our entire portfolio in the market when the 50 day moving average crosses above the 200 day.  If the opposite occurs we will short the market.\n",
    "\n",
    "First we start with $10,000 in our portfolio."
   ]
  },
  {
   "cell_type": "code",
   "execution_count": 12,
   "metadata": {},
   "outputs": [],
   "source": [
    "net_worth = 10000"
   ]
  },
  {
   "cell_type": "markdown",
   "metadata": {},
   "source": [
    "Next we loop through every day to see if we should take some action.  \n",
    "The current portfolio position is indicated buy the vaiable called 'current_status.  It will either be short or long.\n",
    "The price we buy (or sell) the market at is called 'start_price'.\n",
    "The number of shares we own is stored in 'shares'."
   ]
  },
  {
   "cell_type": "code",
   "execution_count": 13,
   "metadata": {},
   "outputs": [
    {
     "name": "stdout",
     "output_type": "stream",
     "text": [
      "Closed short position at 96.74 for a gain of -0.00 dollars\n",
      "Closed long position at 106.59 for a gain of 1016.67 dollars\n",
      "Closed short position at 108.37 for a gain of -183.75 dollars\n",
      "Closed long position at 105.40 for a gain of -296.41 dollars\n",
      "Closed short position at 106.13 for a gain of -72.66 dollars\n",
      "Closed long position at 104.71 for a gain of -139.16 dollars\n",
      "Closed short position at 104.50 for a gain of 20.10 dollars\n",
      "Closed long position at 102.79 for a gain of -168.55 dollars\n",
      "Closed short position at 104.36 for a gain of -154.00 dollars\n",
      "Closed long position at 102.34 for a gain of -192.32 dollars\n",
      "Closed short position at 93.31 for a gain of 857.95 dollars\n",
      "Closed long position at 93.50 for a gain of 21.45 dollars\n",
      "Closed short position at 95.51 for a gain of -227.77 dollars\n",
      "Closed long position at 92.69 for a gain of -305.83 dollars\n",
      "Closed short position at 94.99 for a gain of -249.15 dollars\n",
      "Closed long position at 98.89 for a gain of 400.86 dollars\n",
      "Closed short position at 103.62 for a gain of -486.11 dollars\n",
      "Closed long position at 104.55 for a gain of 87.53 dollars\n",
      "Closed short position at 104.89 for a gain of -31.83 dollars\n",
      "Closed long position at 102.99 for a gain of -175.86 dollars\n",
      "Closed short position at 104.35 for a gain of -125.34 dollars\n",
      "Closed long position at 102.15 for a gain of -197.99 dollars\n",
      "Closed short position at 104.65 for a gain of -224.58 dollars\n",
      "Closed long position at 101.27 for a gain of -288.62 dollars\n",
      "Closed short position at 102.42 for a gain of -97.80 dollars\n",
      "Closed long position at 102.24 for a gain of -14.61 dollars\n",
      "Closed short position at 104.39 for a gain of -178.82 dollars\n",
      "Closed long position at 102.37 for a gain of -160.81 dollars\n",
      "Closed short position at 100.44 for a gain of 153.66 dollars\n",
      "Closed long position at 99.67 for a gain of -63.64 dollars\n",
      "Closed short position at 98.36 for a gain of 108.09 dollars\n",
      "Closed long position at 97.03 for a gain of -112.72 dollars\n",
      "Closed short position at 98.40 for a gain of -115.78 dollars\n",
      "Closed long position at 97.01 for a gain of -113.66 dollars\n",
      "Closed short position at 98.08 for a gain of -87.10 dollars\n",
      "Closed long position at 97.29 for a gain of -63.00 dollars\n",
      "Closed short position at 99.06 for a gain of -141.56 dollars\n",
      "Closed long position at 97.48 for a gain of -122.02 dollars\n",
      "Closed short position at 100.93 for a gain of -265.64 dollars\n",
      "Closed long position at 98.16 for a gain of -198.37 dollars\n",
      "Closed short position at 98.50 for a gain of -24.77 dollars\n",
      "Closed long position at 98.41 for a gain of -6.88 dollars\n",
      "Closed short position at 99.62 for a gain of -85.54 dollars\n",
      "Closed long position at 98.45 for a gain of -80.33 dollars\n",
      "Closed short position at 91.92 for a gain of 449.31 dollars\n",
      "Closed long position at 91.14 for a gain of -60.91 dollars\n",
      "Closed short position at 93.54 for a gain of -188.04 dollars\n",
      "Closed long position at 101.32 for a gain of 577.29 dollars\n",
      "Closed short position at 100.84 for a gain of 35.44 dollars\n",
      "Closed long position at 99.26 for a gain of -118.66 dollars\n",
      "Closed short position at 102.23 for a gain of -222.27 dollars\n",
      "Closed long position at 103.15 for a gain of 64.32 dollars\n",
      "Closed short position at 104.64 for a gain of -104.33 dollars\n",
      "Closed long position at 101.95 for a gain of -182.84 dollars\n",
      "Closed short position at 104.57 for a gain of -177.94 dollars\n",
      "Closed long position at 103.68 for a gain of -57.42 dollars\n",
      "Closed short position at 104.44 for a gain of -48.70 dollars\n",
      "Closed long position at 102.82 for a gain of -102.27 dollars\n",
      "Closed short position at 97.22 for a gain of 353.63 dollars\n",
      "Closed long position at 92.40 for a gain of -339.02 dollars\n",
      "Closed short position at 95.05 for a gain of -185.83 dollars\n",
      "Closed long position at 93.44 for a gain of -106.47 dollars\n",
      "Closed short position at 90.44 for a gain of 198.73 dollars\n",
      "Closed long position at 87.99 for a gain of -172.10 dollars\n",
      "Closed short position at 84.90 for a gain of 217.42 dollars\n",
      "Closed long position at 82.84 for a gain of -155.13 dollars\n",
      "Closed short position at 84.34 for a gain of -112.94 dollars\n",
      "Closed long position at 86.33 for a gain of 143.84 dollars\n",
      "Closed short position at 86.34 for a gain of -0.64 dollars\n",
      "Closed long position at 87.17 for a gain of 59.96 dollars\n",
      "Closed short position at 87.16 for a gain of 0.61 dollars\n",
      "Closed long position at 84.85 for a gain of -166.10 dollars\n",
      "Closed short position at 86.79 for a gain of -139.38 dollars\n",
      "Closed long position at 85.45 for a gain of -91.64 dollars\n",
      "Closed short position at 86.02 for a gain of -38.67 dollars\n",
      "Closed long position at 90.33 for a gain of 290.55 dollars\n",
      "Closed short position at 88.05 for a gain of 153.46 dollars\n",
      "Closed long position at 99.26 for a gain of 791.08 dollars\n",
      "Closed short position at 104.65 for a gain of -380.31 dollars\n",
      "Closed long position at 105.58 for a gain of 58.62 dollars\n",
      "Closed short position at 110.18 for a gain of -290.30 dollars\n",
      "Closed long position at 118.78 for a gain of 495.97 dollars\n",
      "Closed short position at 118.29 for a gain of 28.47 dollars\n",
      "Closed long position at 118.42 for a gain of 7.87 dollars\n",
      "Closed short position at 120.14 for a gain of -99.41 dollars\n",
      "Closed long position at 121.02 for a gain of 49.48 dollars\n",
      "Closed short position at 120.61 for a gain of 22.78 dollars\n",
      "Closed long position at 116.40 for a gain of -237.39 dollars\n",
      "Closed short position at 119.42 for a gain of -169.57 dollars\n",
      "Closed long position at 124.27 for a gain of 259.31 dollars\n",
      "Closed short position at 125.78 for a gain of -80.42 dollars\n",
      "Closed long position at 122.71 for a gain of -159.47 dollars\n",
      "Closed short position at 125.36 for a gain of -137.35 dollars\n",
      "Closed long position at 123.35 for a gain of -99.81 dollars\n",
      "Closed short position at 119.52 for a gain of 189.29 dollars\n",
      "Closed long position at 116.97 for a gain of -134.52 dollars\n",
      "Closed short position at 121.86 for a gain of -256.67 dollars\n",
      "Closed long position at 123.68 for a gain of 87.99 dollars\n",
      "Closed short position at 128.10 for a gain of -212.43 dollars\n",
      "Closed long position at 124.05 for a gain of -181.10 dollars\n",
      "Closed short position at 119.30 for a gain of 212.07 dollars\n",
      "Closed long position at 114.51 for a gain of -230.38 dollars\n",
      "Closed short position at 118.69 for a gain of -200.70 dollars\n",
      "Closed long position at 115.50 for a gain of -142.23 dollars\n",
      "Closed short position at 110.62 for a gain of 217.10 dollars\n",
      "Closed long position at 120.83 for a gain of 493.68 dollars\n",
      "Closed short position at 124.57 for a gain of -180.09 dollars\n",
      "Closed long position at 122.08 for a gain of -112.75 dollars\n",
      "Closed short position at 122.27 for a gain of -8.59 dollars\n",
      "Closed long position at 124.49 for a gain of 99.78 dollars\n",
      "Closed short position at 123.11 for a gain of 61.68 dollars\n",
      "Closed long position at 121.09 for a gain of -92.57 dollars\n",
      "Closed short position at 124.79 for a gain of -169.14 dollars\n",
      "Closed long position at 123.28 for a gain of -64.79 dollars\n",
      "Closed short position at 127.57 for a gain of -183.79 dollars\n",
      "Closed long position at 143.41 for a gain of 631.89 dollars\n",
      "Closed short position at 145.00 for a gain of -63.07 dollars\n",
      "Closed long position at 143.26 for a gain of -67.67 dollars\n",
      "Closed short position at 144.30 for a gain of -40.35 dollars\n",
      "Closed long position at 146.67 for a gain of 90.64 dollars\n",
      "Closed short position at 152.59 for a gain of -225.48 dollars\n",
      "Closed long position at 151.01 for a gain of -55.20 dollars\n",
      "Closed short position at 140.25 for a gain of 376.83 dollars\n",
      "Closed long position at 138.39 for a gain of -75.24 dollars\n",
      "Closed short position at 119.78 for a gain of 748.99 dollars\n",
      "Closed long position at 121.43 for a gain of 86.91 dollars\n",
      "Closed short position at 104.90 for a gain of 869.45 dollars\n",
      "Closed long position at 100.93 for a gain of -273.94 dollars\n",
      "Closed short position at 104.93 for a gain of -275.45 dollars\n",
      "Closed long position at 101.11 for a gain of -242.93 dollars\n",
      "Closed short position at 100.91 for a gain of 12.32 dollars\n",
      "Closed long position at 99.50 for a gain of -90.31 dollars\n",
      "Closed short position at 100.13 for a gain of -40.15 dollars\n",
      "Closed long position at 95.93 for a gain of -263.37 dollars\n",
      "Closed short position at 93.27 for a gain of 165.92 dollars\n",
      "Closed long position at 92.89 for a gain of -25.37 dollars\n",
      "Closed short position at 94.51 for a gain of -106.64 dollars\n",
      "Closed long position at 91.61 for a gain of -184.41 dollars\n",
      "Closed short position at 94.12 for a gain of -159.38 dollars\n",
      "Closed long position at 92.20 for a gain of -114.96 dollars\n",
      "Closed short position at 77.52 for a gain of 878.56 dollars\n",
      "Closed long position at 76.60 for a gain of -75.30 dollars\n",
      "Closed short position at 75.61 for a gain of 81.47 dollars\n",
      "Closed long position at 74.65 for a gain of -81.06 dollars\n",
      "Closed short position at 74.81 for a gain of -13.70 dollars\n",
      "Closed long position at 73.93 for a gain of -73.52 dollars\n",
      "Closed short position at 72.25 for a gain of 140.71 dollars\n",
      "Closed long position at 70.59 for a gain of -144.99 dollars\n",
      "Closed short position at 71.99 for a gain of -122.38 dollars\n",
      "Closed long position at 68.90 for a gain of -258.73 dollars\n",
      "Closed short position at 67.72 for a gain of 98.00 dollars\n",
      "Closed long position at 67.01 for a gain of -61.68 dollars\n"
     ]
    }
   ],
   "source": [
    "current_status = 'Short'\n",
    "start_price = 0\n",
    "shares = 0\n",
    "\n",
    "# Additional Features\n",
    "commission = 5\n",
    "num_trades = 0\n",
    "\n",
    "for i in range(200, 2520):\n",
    "    if current_status == 'Short':\n",
    "        if sma50[i]-sma200[i] > 0:\n",
    "            gains = (start_price - price_history[i])*shares\n",
    "            net_worth = net_worth + gains - 2*commission\n",
    "            current_status = 'Long'\n",
    "            start_price = price_history[i]\n",
    "            shares = net_worth / start_price\n",
    "            print (\"Closed short position at {0:0.2f} for a gain of {1:0.2f} dollars\".format(price_history[i], gains))\n",
    "            num_trades = num_trades + 1\n",
    "    if current_status == 'Long':\n",
    "        if sma50[i]-sma200[i] < 0:\n",
    "            gains = (price_history[i] - start_price)*shares\n",
    "            net_worth = shares * price_history[i]  - 2*commission\n",
    "            current_status = 'Short'\n",
    "            start_price = price_history[i]\n",
    "            shares = net_worth / start_price\n",
    "            print (\"Closed long position at {0:0.2f} for a gain of {1:0.2f} dollars\".format(price_history[i], gains))\n",
    "            num_trades = num_trades + 1"
   ]
  },
  {
   "cell_type": "markdown",
   "metadata": {},
   "source": [
    "Once we have our net worth after the 10 year span we can print it out."
   ]
  },
  {
   "cell_type": "code",
   "execution_count": 14,
   "metadata": {},
   "outputs": [
    {
     "name": "stdout",
     "output_type": "stream",
     "text": [
      "The current market value is: 66.14\n",
      "The market returned -33.86% over the 10 year span.\n",
      "Our net worth is: $5764.38\n",
      "Our portfolio returned -42.36% over the 10 year span.\n"
     ]
    }
   ],
   "source": [
    "print(\"The current market value is: {0:0.2f}\".format(price_history[2519]))\n",
    "print(\"The market returned {0:0.2f}% over the 10 year span.\".format((price_history[2519]-100)))\n",
    "\n",
    "print(\"Our net worth is: ${0:0.2f}\".format(net_worth))\n",
    "print(\"Our portfolio returned {0:0.2f}% over the 10 year span.\".format((net_worth-10000)/100))"
   ]
  },
  {
   "cell_type": "markdown",
   "metadata": {},
   "source": [
    "The print outs below illustrate the impact commissions trade frequency have on portfolio value."
   ]
  },
  {
   "cell_type": "code",
   "execution_count": 15,
   "metadata": {},
   "outputs": [
    {
     "name": "stdout",
     "output_type": "stream",
     "text": [
      "This model initiaited 152 trades over a 10 year span resulting in $1520 of commissions.\n"
     ]
    }
   ],
   "source": [
    "print(\"This model initiaited {0} trades over a 10 year span resulting in ${1} of commissions.\".format(num_trades, num_trades*2*commission))"
   ]
  }
 ],
 "metadata": {
  "kernelspec": {
   "display_name": "Python 3",
   "language": "python",
   "name": "python3"
  },
  "language_info": {
   "codemirror_mode": {
    "name": "ipython",
    "version": 3
   },
   "file_extension": ".py",
   "mimetype": "text/x-python",
   "name": "python",
   "nbconvert_exporter": "python",
   "pygments_lexer": "ipython3",
   "version": "3.7.2"
  }
 },
 "nbformat": 4,
 "nbformat_minor": 2
}
